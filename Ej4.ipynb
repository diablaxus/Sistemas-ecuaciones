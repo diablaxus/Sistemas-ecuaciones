{
  "nbformat": 4,
  "nbformat_minor": 0,
  "metadata": {
    "colab": {
      "provenance": [],
      "authorship_tag": "ABX9TyMWX2c9nT6QnQMEwRDbUbOJ",
      "include_colab_link": true
    },
    "kernelspec": {
      "name": "python3",
      "display_name": "Python 3"
    },
    "language_info": {
      "name": "python"
    }
  },
  "cells": [
    {
      "cell_type": "markdown",
      "metadata": {
        "id": "view-in-github",
        "colab_type": "text"
      },
      "source": [
        "<a href=\"https://colab.research.google.com/github/diablaxus/Sistemas-ecuaciones/blob/main/Ej4.ipynb\" target=\"_parent\"><img src=\"https://colab.research.google.com/assets/colab-badge.svg\" alt=\"Open In Colab\"/></a>"
      ]
    },
    {
      "cell_type": "code",
      "execution_count": 1,
      "metadata": {
        "colab": {
          "base_uri": "https://localhost:8080/"
        },
        "id": "u90Ba-uRRBlL",
        "outputId": "35af685e-9276-4ff7-a803-160d0513d711"
      },
      "outputs": [
        {
          "output_type": "stream",
          "name": "stdout",
          "text": [
            "Parámetros (Gauss-Seidel): [0.42884615 0.64615385 0.67884615]\n"
          ]
        }
      ],
      "source": [
        "import numpy as np\n",
        "\n",
        "# Definir la matriz A y el vector b para Gauss-Seidel\n",
        "A = np.array([[10, -1, 2],\n",
        "              [-1, 11, -1],\n",
        "              [2, -1, 10]])\n",
        "b = np.array([5, 6, 7])\n",
        "\n",
        "def gauss_seidel(A, b, x0=None, tol=1e-10, max_iterations=100):\n",
        "    n = len(b)  # Obtener el tamaño del sistema\n",
        "    x = np.zeros(n) if x0 is None else x0  # Inicializar x\n",
        "    for iteration in range(max_iterations):\n",
        "        x_new = np.copy(x)  # Copiar la solución actual\n",
        "        for i in range(n):\n",
        "            s1 = sum(A[i][j] * x_new[j] for j in range(i))  # Sumar la parte anterior\n",
        "            s2 = sum(A[i][j] * x[j] for j in range(i + 1, n))  # Sumar la parte posterior\n",
        "            x_new[i] = (b[i] - s1 - s2) / A[i][i]  # Calcular el nuevo valor\n",
        "        if np.linalg.norm(x_new - x, ord=np.inf) < tol:  # Comprobar la convergencia\n",
        "            break\n",
        "        x = x_new  # Actualizar x\n",
        "    return x\n",
        "\n",
        "parameters = gauss_seidel(A, b)\n",
        "print(\"Parámetros (Gauss-Seidel):\", parameters)  # Imprimir los parámetros obtenidos\n",
        "\n",
        "# Verificación\n",
        "assert np.allclose(np.dot(A, parameters), b), \"La solución no es correcta.\"\n"
      ]
    }
  ]
}