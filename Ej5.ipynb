{
  "nbformat": 4,
  "nbformat_minor": 0,
  "metadata": {
    "colab": {
      "provenance": [],
      "authorship_tag": "ABX9TyO4uLMGpv3gcScn2uCts+5g",
      "include_colab_link": true
    },
    "kernelspec": {
      "name": "python3",
      "display_name": "Python 3"
    },
    "language_info": {
      "name": "python"
    }
  },
  "cells": [
    {
      "cell_type": "markdown",
      "metadata": {
        "id": "view-in-github",
        "colab_type": "text"
      },
      "source": [
        "<a href=\"https://colab.research.google.com/github/diablaxus/Sistemas-ecuaciones/blob/main/Ej5.ipynb\" target=\"_parent\"><img src=\"https://colab.research.google.com/assets/colab-badge.svg\" alt=\"Open In Colab\"/></a>"
      ]
    },
    {
      "cell_type": "code",
      "execution_count": 5,
      "metadata": {
        "colab": {
          "base_uri": "https://localhost:8080/"
        },
        "id": "h9tzLv3XU-mu",
        "outputId": "5311dafc-a58c-4271-f5a8-d1338e87cf17"
      },
      "outputs": [
        {
          "output_type": "stream",
          "name": "stdout",
          "text": [
            "Pesos (w1, w2, w3): [ 360 -350  400]\n"
          ]
        }
      ],
      "source": [
        "import numpy as np\n",
        "\n",
        "# Definir la matriz de coeficientes A y el vector de errores b\n",
        "A = np.array([[25, 15, -5],\n",
        "              [15, 18, 0],\n",
        "              [-5, 0, 11]])\n",
        "b = np.array([350, 400, 200])\n",
        "\n",
        "def cholesky_decomposition(A):\n",
        "    n = A.shape[0]\n",
        "    L = np.zeros_like(A)\n",
        "\n",
        "    for i in range(n):\n",
        "        for j in range(i + 1):\n",
        "            if i == j:\n",
        "                L[i][j] = np.sqrt(A[i][i] - np.sum(L[i][:j] ** 2))\n",
        "            else:\n",
        "                L[i][j] = (A[i][j] - np.sum(L[i][:j] * L[j][:j])) / L[j][j]\n",
        "    return L\n",
        "\n",
        "def solve_cholesky(A, b):\n",
        "    L = cholesky_decomposition(A)\n",
        "\n",
        "    # Resolver Ly = b (sustitución directa)\n",
        "    y = np.zeros_like(b)\n",
        "    for i in range(len(b)):\n",
        "        y[i] = b[i] - np.dot(L[i, :i], y[:i])\n",
        "\n",
        "    # Resolver L^Tx = y (sustitución regresiva)\n",
        "    x = np.zeros_like(b)\n",
        "    for i in range(len(b)-1, -1, -1):\n",
        "        x[i] = (y[i] - np.dot(L[i+1:, i], x[i+1:])) / L[i, i]\n",
        "\n",
        "    return x\n",
        "\n",
        "# Llamar a la función y obtener los pesos\n",
        "weights = solve_cholesky(A, b)\n",
        "print(\"Pesos (w1, w2, w3):\", weights)\n",
        "\n"
      ]
    }
  ]
}