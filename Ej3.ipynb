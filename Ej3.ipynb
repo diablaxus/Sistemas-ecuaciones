{
  "nbformat": 4,
  "nbformat_minor": 0,
  "metadata": {
    "colab": {
      "provenance": [],
      "authorship_tag": "ABX9TyOWOVhWh9ByK/jyYorMv2HQ",
      "include_colab_link": true
    },
    "kernelspec": {
      "name": "python3",
      "display_name": "Python 3"
    },
    "language_info": {
      "name": "python"
    }
  },
  "cells": [
    {
      "cell_type": "markdown",
      "metadata": {
        "id": "view-in-github",
        "colab_type": "text"
      },
      "source": [
        "<a href=\"https://colab.research.google.com/github/diablaxus/Sistemas-ecuaciones/blob/main/Ej3.ipynb\" target=\"_parent\"><img src=\"https://colab.research.google.com/assets/colab-badge.svg\" alt=\"Open In Colab\"/></a>"
      ]
    },
    {
      "cell_type": "code",
      "execution_count": 1,
      "metadata": {
        "colab": {
          "base_uri": "https://localhost:8080/"
        },
        "id": "CPfkUSkbQoCw",
        "outputId": "5dc6820d-a60d-4d9d-a857-8d933a628ae1"
      },
      "outputs": [
        {
          "output_type": "stream",
          "name": "stdout",
          "text": [
            "Pesos (Jacobi): [  2.21907032 -25.07187128   6.57199046]\n"
          ]
        }
      ],
      "source": [
        "import numpy as np\n",
        "\n",
        "# Definir la matriz A y el vector b para el método de Jacobi\n",
        "A = np.array([[3, -0.1, -0.2],\n",
        "              [0.1, 0.7, -0.3],\n",
        "              [0.3, -0.2, 10]])\n",
        "b = np.array([7.85, -19.3, 71.4])\n",
        "\n",
        "def jacobi(A, b, x0=None, tol=1e-10, max_iterations=100):\n",
        "    n = len(b)  # Obtener el tamaño del sistema\n",
        "    x = np.zeros(n) if x0 is None else x0  # Inicializar x\n",
        "    for iteration in range(max_iterations):\n",
        "        x_new = np.copy(x)  # Copiar la solución actual\n",
        "        for i in range(n):\n",
        "            s = sum(A[i][j] * x[j] for j in range(n) if j != i)  # Sumar los términos\n",
        "            x_new[i] = (b[i] - s) / A[i][i]  # Calcular el nuevo valor\n",
        "        if np.linalg.norm(x_new - x, ord=np.inf) < tol:  # Comprobar la convergencia\n",
        "            break\n",
        "        x = x_new  # Actualizar x\n",
        "    return x\n",
        "\n",
        "weights_jacobi = jacobi(A, b)\n",
        "print(\"Pesos (Jacobi):\", weights_jacobi)  # Imprimir los pesos obtenidos con Jacobi\n",
        "\n",
        "# Verificación\n",
        "assert np.allclose(np.dot(A, weights_jacobi), b), \"La solución no es correcta.\"\n"
      ]
    }
  ]
}