{
  "nbformat": 4,
  "nbformat_minor": 0,
  "metadata": {
    "colab": {
      "provenance": [],
      "authorship_tag": "ABX9TyNMjaOrkXrEj6/XZ844BZDr",
      "include_colab_link": true
    },
    "kernelspec": {
      "name": "python3",
      "display_name": "Python 3"
    },
    "language_info": {
      "name": "python"
    }
  },
  "cells": [
    {
      "cell_type": "markdown",
      "metadata": {
        "id": "view-in-github",
        "colab_type": "text"
      },
      "source": [
        "<a href=\"https://colab.research.google.com/github/diablaxus/Sistemas-ecuaciones/blob/main/Ej1.ipynb\" target=\"_parent\"><img src=\"https://colab.research.google.com/assets/colab-badge.svg\" alt=\"Open In Colab\"/></a>"
      ]
    },
    {
      "cell_type": "code",
      "execution_count": 11,
      "metadata": {
        "colab": {
          "base_uri": "https://localhost:8080/",
          "height": 193
        },
        "id": "PLGLvNjRAsPN",
        "outputId": "43cb22ac-afdc-451a-c736-9001ff8a8de7"
      },
      "outputs": [
        {
          "output_type": "stream",
          "name": "stdout",
          "text": [
            "Gradientes: [ 5.75 -2.    0.75]\n"
          ]
        },
        {
          "output_type": "error",
          "ename": "AssertionError",
          "evalue": "La solución no es correcta.",
          "traceback": [
            "\u001b[0;31m---------------------------------------------------------------------------\u001b[0m",
            "\u001b[0;31mAssertionError\u001b[0m                            Traceback (most recent call last)",
            "\u001b[0;32m<ipython-input-11-78cb6fe826b4>\u001b[0m in \u001b[0;36m<cell line: 38>\u001b[0;34m()\u001b[0m\n\u001b[1;32m     36\u001b[0m                    [3, 4, 2]])\n\u001b[1;32m     37\u001b[0m \u001b[0mb_test\u001b[0m \u001b[0;34m=\u001b[0m \u001b[0mnp\u001b[0m\u001b[0;34m.\u001b[0m\u001b[0marray\u001b[0m\u001b[0;34m(\u001b[0m\u001b[0;34m[\u001b[0m\u001b[0;36m0.5\u001b[0m\u001b[0;34m,\u001b[0m \u001b[0;34m-\u001b[0m\u001b[0;36m1.0\u001b[0m\u001b[0;34m,\u001b[0m \u001b[0;36m1.5\u001b[0m\u001b[0;34m]\u001b[0m\u001b[0;34m)\u001b[0m\u001b[0;34m\u001b[0m\u001b[0;34m\u001b[0m\u001b[0m\n\u001b[0;32m---> 38\u001b[0;31m \u001b[0;32massert\u001b[0m \u001b[0mnp\u001b[0m\u001b[0;34m.\u001b[0m\u001b[0mallclose\u001b[0m\u001b[0;34m(\u001b[0m\u001b[0mnp\u001b[0m\u001b[0;34m.\u001b[0m\u001b[0mdot\u001b[0m\u001b[0;34m(\u001b[0m\u001b[0mA_test\u001b[0m\u001b[0;34m,\u001b[0m \u001b[0mgradients\u001b[0m\u001b[0;34m)\u001b[0m\u001b[0;34m,\u001b[0m \u001b[0mb_test\u001b[0m\u001b[0;34m)\u001b[0m\u001b[0;34m,\u001b[0m \u001b[0;34m\"La solución no es correcta.\"\u001b[0m\u001b[0;34m\u001b[0m\u001b[0;34m\u001b[0m\u001b[0m\n\u001b[0m",
            "\u001b[0;31mAssertionError\u001b[0m: La solución no es correcta."
          ]
        }
      ],
      "source": [
        "import numpy as np\n",
        "\n",
        "# Definir la matriz de coeficientes A y el vector de errores b\n",
        "A = np.array([[2, 3, 1],\n",
        "              [4, 1, 2],\n",
        "              [3, 4, 2]])\n",
        "b = np.array([0.5, -1.0, 1.5])\n",
        "\n",
        "def gauss_elimination(A, b):\n",
        "    n = len(b)  # Obtener el tamaño del sistema\n",
        "\n",
        "    # Eliminación hacia adelante\n",
        "    for i in range(n):\n",
        "        # Hacer que el elemento diagonal sea 1\n",
        "        for j in range(i + 1, n):\n",
        "            factor = A[j][i] / A[i][i]  # Calcular el factor\n",
        "            A[j] = A[j] - factor * A[i]  # Eliminar la fila actual\n",
        "            b[j] = b[j] - factor * b[i]\n",
        "\n",
        "    # Sustitución hacia atrás\n",
        "    x = np.zeros(n)  # Inicializar la solución\n",
        "    for i in range(n - 1, -1, -1):\n",
        "        x[i] = b[i]\n",
        "        for j in range(i + 1, n):\n",
        "            x[i] -= A[i][j] * x[j]  # Restar los valores ya calculados\n",
        "\n",
        "    return x  # Devolver la solución\n",
        "\n",
        " # Llamar a la función y obtener los gradientes\n",
        "gradients = gauss_elimination(A.copy(), b.copy())\n",
        "print(\"Gradientes:\", gradients)  # Imprimir los gradientes obtenidos\n",
        "\n",
        "# Verificación\n",
        "A_test = np.array([[2, 3, 1],\n",
        "                   [4, 1, 2],\n",
        "                   [3, 4, 2]])\n",
        "b_test = np.array([0.5, -1.0, 1.5])\n",
        "assert np.allclose(np.dot(A_test, gradients), b_test), \"La solución no es correcta.\"\n"
      ]
    }
  ]
}