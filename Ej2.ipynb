{
  "nbformat": 4,
  "nbformat_minor": 0,
  "metadata": {
    "colab": {
      "provenance": [],
      "authorship_tag": "ABX9TyOWEbKRv2Sa7sQK/2WzF96r",
      "include_colab_link": true
    },
    "kernelspec": {
      "name": "python3",
      "display_name": "Python 3"
    },
    "language_info": {
      "name": "python"
    }
  },
  "cells": [
    {
      "cell_type": "markdown",
      "metadata": {
        "id": "view-in-github",
        "colab_type": "text"
      },
      "source": [
        "<a href=\"https://colab.research.google.com/github/diablaxus/Sistemas-ecuaciones/blob/main/Ej2.ipynb\" target=\"_parent\"><img src=\"https://colab.research.google.com/assets/colab-badge.svg\" alt=\"Open In Colab\"/></a>"
      ]
    },
    {
      "cell_type": "code",
      "execution_count": 2,
      "metadata": {
        "colab": {
          "base_uri": "https://localhost:8080/"
        },
        "id": "XXl4qKmlPHXS",
        "outputId": "7d9882cd-f4c8-4df8-a64e-66e18b3b21fc"
      },
      "outputs": [
        {
          "output_type": "stream",
          "name": "stdout",
          "text": [
            "Pesos: [  2.21907032 -25.07187128   6.57199046]\n"
          ]
        }
      ],
      "source": [
        "import numpy as np\n",
        "\n",
        "# Definir la matriz A y el vector b\n",
        "A = np.array([[3, -0.1, -0.2],\n",
        "              [0.1, 0.7, -0.3],\n",
        "              [0.3, -0.2, 10]])\n",
        "b = np.array([7.85, -19.3, 71.4])\n",
        "\n",
        "# Calcular la matriz inversa y obtener los pesos\n",
        "weights = np.linalg.inv(A).dot(b)\n",
        "print(\"Pesos:\", weights)  # Imprimir los pesos ajustados\n",
        "\n",
        "# Verificación de que la solución es correcta\n",
        "A_test = np.array([[3, -0.1, -0.2],\n",
        "                   [0.1, 0.7, -0.3],\n",
        "                   [0.3, -0.2, 10]])\n",
        "b_test = np.array([7.85, -19.3, 71.4])\n",
        "assert np.allclose(np.dot(A_test, weights), b_test), \"La solución no es correcta.\"\n"
      ]
    }
  ]
}